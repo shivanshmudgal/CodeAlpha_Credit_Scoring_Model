{
 "cells": [
  {
   "cell_type": "markdown",
   "metadata": {
    "id": "dJrbSMUGgdLc"
   },
   "source": [
    "Import Libraries"
   ]
  },
  {
   "cell_type": "code",
   "execution_count": 2,
   "metadata": {
    "id": "S9my041nsmOV"
   },
   "outputs": [
    {
     "ename": "ModuleNotFoundError",
     "evalue": "No module named 'plotly'",
     "output_type": "error",
     "traceback": [
      "\u001b[1;31m---------------------------------------------------------------------------\u001b[0m",
      "\u001b[1;31mModuleNotFoundError\u001b[0m                       Traceback (most recent call last)",
      "Cell \u001b[1;32mIn[2], line 4\u001b[0m\n\u001b[0;32m      1\u001b[0m \u001b[38;5;28;01mimport\u001b[39;00m \u001b[38;5;21;01mnumpy\u001b[39;00m \u001b[38;5;28;01mas\u001b[39;00m \u001b[38;5;21;01mnp\u001b[39;00m\n\u001b[0;32m      2\u001b[0m \u001b[38;5;28;01mimport\u001b[39;00m \u001b[38;5;21;01mpandas\u001b[39;00m \u001b[38;5;28;01mas\u001b[39;00m \u001b[38;5;21;01mpd\u001b[39;00m\n\u001b[1;32m----> 4\u001b[0m \u001b[38;5;28;01mimport\u001b[39;00m \u001b[38;5;21;01mplotly\u001b[39;00m\u001b[38;5;21;01m.\u001b[39;00m\u001b[38;5;21;01mexpress\u001b[39;00m \u001b[38;5;28;01mas\u001b[39;00m \u001b[38;5;21;01mpx\u001b[39;00m\n\u001b[0;32m      5\u001b[0m \u001b[38;5;28;01mimport\u001b[39;00m \u001b[38;5;21;01mplotly\u001b[39;00m\u001b[38;5;21;01m.\u001b[39;00m\u001b[38;5;21;01mgraph_objects\u001b[39;00m \u001b[38;5;28;01mas\u001b[39;00m \u001b[38;5;21;01mgo\u001b[39;00m\n\u001b[0;32m      7\u001b[0m \u001b[38;5;28;01mimport\u001b[39;00m \u001b[38;5;21;01mplotly\u001b[39;00m\u001b[38;5;21;01m.\u001b[39;00m\u001b[38;5;21;01mio\u001b[39;00m \u001b[38;5;28;01mas\u001b[39;00m \u001b[38;5;21;01mpio\u001b[39;00m\n",
      "\u001b[1;31mModuleNotFoundError\u001b[0m: No module named 'plotly'"
     ]
    }
   ],
   "source": [
    "import numpy as np\n",
    "import pandas as pd\n",
    "\n",
    "import plotly.express as px\n",
    "import plotly.graph_objects as go\n",
    "\n",
    "import plotly.io as pio\n",
    "pio.templates.default = \"plotly_white\"\n",
    "\n"
   ]
  },
  {
   "cell_type": "code",
   "execution_count": null,
   "metadata": {
    "colab": {
     "base_uri": "https://localhost:8080/",
     "height": 342
    },
    "id": "6KRAMJY1s_WM",
    "outputId": "e2f79db0-f8b0-44ea-e7ab-92b51e29aa8d"
   },
   "outputs": [],
   "source": [
    "data = pd.read_csv(\"/train.csv\")\n",
    "data.head()"
   ]
  },
  {
   "cell_type": "code",
   "execution_count": null,
   "metadata": {
    "colab": {
     "base_uri": "https://localhost:8080/"
    },
    "id": "NNpkY7nStgbt",
    "outputId": "b417228a-9e27-4b14-c155-90a41d96c650"
   },
   "outputs": [],
   "source": [
    "print(data.info())"
   ]
  },
  {
   "cell_type": "code",
   "execution_count": null,
   "metadata": {
    "colab": {
     "base_uri": "https://localhost:8080/"
    },
    "id": "8ySoOHCwtuJ3",
    "outputId": "924a26ca-7c82-41bf-938d-9ad3ee9ca171"
   },
   "outputs": [],
   "source": [
    "print(data.isnull().sum())"
   ]
  },
  {
   "cell_type": "code",
   "execution_count": null,
   "metadata": {
    "colab": {
     "base_uri": "https://localhost:8080/"
    },
    "id": "L3t-8PQet8hx",
    "outputId": "264011ef-2371-491b-d25f-36e26de064c8"
   },
   "outputs": [],
   "source": [
    "data[\"Credit_Score\"].value_counts()"
   ]
  },
  {
   "cell_type": "markdown",
   "metadata": {
    "id": "N7KfcHo44Lpa"
   },
   "source": []
  },
  {
   "cell_type": "markdown",
   "metadata": {
    "id": "94zQhiYw94NU"
   },
   "source": [
    "Data Exploration"
   ]
  },
  {
   "cell_type": "code",
   "execution_count": null,
   "metadata": {
    "colab": {
     "base_uri": "https://localhost:8080/",
     "height": 542
    },
    "id": "XC3N075RBit0",
    "outputId": "08ad5ccd-3fd4-4f3f-d1de-7965bb22bd20"
   },
   "outputs": [],
   "source": [
    "fig = px.box (data, x=\"Occupation\", color=\"Credit_Score\", title=\"Credit Score Based on Occupation\",\n",
    "              color_discrete_map={'Good':'green','Standard':'yellow','Poor':'red'})\n",
    "fig.show()"
   ]
  },
  {
   "cell_type": "code",
   "execution_count": null,
   "metadata": {
    "colab": {
     "base_uri": "https://localhost:8080/",
     "height": 542
    },
    "id": "7nRhCdmfC0ue",
    "outputId": "3f599051-4eb8-49e3-d28a-9afa3143e980"
   },
   "outputs": [],
   "source": [
    "fig =px.box(data,x=\"Credit_Score\", y=\"Annual_Income\",color=\"Credit_Score\",title=\"Creit Score based on Annual Income\",\n",
    "color_discrete_map={'Good':'green','Standard':'yellow','Poor':'red'})\n",
    "fig.show()"
   ]
  },
  {
   "cell_type": "code",
   "execution_count": null,
   "metadata": {
    "colab": {
     "base_uri": "https://localhost:8080/",
     "height": 542
    },
    "id": "UVES1QaFEKY2",
    "outputId": "d80cb443-1163-4e33-f69a-34f940dbebb0"
   },
   "outputs": [],
   "source": [
    "fig =px.box(data,x=\"Credit_Score\", y=\"Monthly_Inhand_Salary\",color=\"Credit_Score\",title=\"Creit Score based on Annual Income\",\n",
    "color_discrete_map={'Good':'green','Standard':'yellow','Poor':'red'})\n",
    "fig.show()"
   ]
  },
  {
   "cell_type": "code",
   "execution_count": null,
   "metadata": {
    "colab": {
     "base_uri": "https://localhost:8080/",
     "height": 542
    },
    "id": "VlNgzh4XEy2e",
    "outputId": "d3e2fa54-8540-4166-d117-e0e34b6ba89d"
   },
   "outputs": [],
   "source": [
    "fig =px.box(data,x=\"Credit_Score\", y=\"Num_Bank_Accounts\",color=\"Credit_Score\",title=\"Creit Score based on Annual Income\",\n",
    "color_discrete_map={'Good':'green','Standard':'yellow','Poor':'red'})\n",
    "fig.show()"
   ]
  },
  {
   "cell_type": "code",
   "execution_count": null,
   "metadata": {
    "colab": {
     "base_uri": "https://localhost:8080/",
     "height": 542
    },
    "id": "QuYcm5rnFPKG",
    "outputId": "a7596ce3-922b-46d6-f9d3-badfa2b6c15f"
   },
   "outputs": [],
   "source": [
    "fig =px.box(data,x=\"Credit_Score\", y=\"Num_Credit_Card\",color=\"Credit_Score\",title=\"Credit Score based on Number of credit Cards\",\n",
    "color_discrete_map={'Good':'green','Standard':'yellow','Poor':'red'})\n",
    "fig.show()"
   ]
  },
  {
   "cell_type": "code",
   "execution_count": null,
   "metadata": {
    "colab": {
     "base_uri": "https://localhost:8080/",
     "height": 542
    },
    "id": "BQ5f8_78FsRO",
    "outputId": "76921500-1eca-4599-80a2-224729918074"
   },
   "outputs": [],
   "source": [
    "fig =px.box(data,x=\"Credit_Score\", y=\"Interest_Rate\",color=\"Credit_Score\",title=\"Credit Score based on Interest\",\n",
    "color_discrete_map={'Good':'green','Standard':'yellow','Poor':'red'})\n",
    "fig.show()"
   ]
  },
  {
   "cell_type": "code",
   "execution_count": null,
   "metadata": {
    "colab": {
     "base_uri": "https://localhost:8080/",
     "height": 542
    },
    "id": "9uvKeYZTGI7e",
    "outputId": "a42ada99-326f-420e-9595-82c3145664f0"
   },
   "outputs": [],
   "source": [
    "fig =px.box(data,x=\"Credit_Score\", y=\"Num_of_Loan\",color=\"Credit_Score\",title=\"Credit Score based on Number of Loans\",\n",
    "color_discrete_map={'Good':'green','Standard':'yellow','Poor':'red'})\n",
    "fig.show()"
   ]
  },
  {
   "cell_type": "code",
   "execution_count": null,
   "metadata": {
    "colab": {
     "base_uri": "https://localhost:8080/",
     "height": 542
    },
    "id": "1A8UqFFrGnd5",
    "outputId": "8714b485-ec76-4aa3-fa4e-fe5310561bd8"
   },
   "outputs": [],
   "source": [
    "fig =px.box(data,x=\"Credit_Score\", y=\"Delay_from_due_date\",color=\"Credit_Score\",title=\"Credit Score based Delay_from_due_date\",\n",
    "color_discrete_map={'Good':'green','Standard':'yellow','Poor':'red'})\n",
    "fig.show()"
   ]
  },
  {
   "cell_type": "code",
   "execution_count": null,
   "metadata": {
    "colab": {
     "base_uri": "https://localhost:8080/",
     "height": 542
    },
    "id": "87rUeA_dGna0",
    "outputId": "971ef05c-2125-446c-c4e2-e6dcb89c5747"
   },
   "outputs": [],
   "source": [
    "fig =px.box(data,x=\"Credit_Score\", y=\"Outstanding_Debt\",color=\"Credit_Score\",title=\"Credit Score based on Outstanding_Debt\",\n",
    "color_discrete_map={'Good':'green','Standard':'yellow','Poor':'red'})\n",
    "fig.show()"
   ]
  },
  {
   "cell_type": "code",
   "execution_count": null,
   "metadata": {
    "id": "9Hd22hjGKiAw"
   },
   "outputs": [],
   "source": [
    "data[\"Credit_Mix\"] = data[\"Credit_Mix\"].map({\"Standard\": 1,\n",
    "                               \"Good\": 2,\n",
    "                               \"Bad\": 0})"
   ]
  },
  {
   "cell_type": "code",
   "execution_count": null,
   "metadata": {
    "id": "s1LSXTnQK5LN"
   },
   "outputs": [],
   "source": [
    "from sklearn.model_selection import train_test_split\n",
    "x = np.array(data[[\"Annual_Income\", \"Monthly_Inhand_Salary\",\n",
    "                   \"Num_Bank_Accounts\", \"Num_Credit_Card\",\n",
    "                   \"Interest_Rate\", \"Num_of_Loan\",\n",
    "                   \"Delay_from_due_date\", \"Num_of_Delayed_Payment\",\n",
    "                   \"Credit_Mix\", \"Outstanding_Debt\",\n",
    "                   \"Credit_History_Age\", \"Monthly_Balance\"]])\n",
    "y = np.array(data[[\"Credit_Score\"]])"
   ]
  },
  {
   "cell_type": "code",
   "execution_count": null,
   "metadata": {
    "colab": {
     "base_uri": "https://localhost:8080/",
     "height": 143
    },
    "id": "86a_H22pK84z",
    "outputId": "c75c9995-4dea-4a2f-c8eb-ed241ccf8693"
   },
   "outputs": [],
   "source": [
    "xtrain, xtest, ytrain, ytest = train_test_split(x, y,\n",
    "                                                    test_size=0.2,\n",
    "                                                    random_state=42)\n",
    "from sklearn.ensemble import RandomForestClassifier\n",
    "model = RandomForestClassifier()\n",
    "model.fit(xtrain, ytrain)"
   ]
  },
  {
   "cell_type": "code",
   "execution_count": null,
   "metadata": {
    "colab": {
     "base_uri": "https://localhost:8080/"
    },
    "id": "MDDetwxULCtC",
    "outputId": "d6ed1e04-7700-4661-ba6f-7ae1b14c6169"
   },
   "outputs": [
    {
     "name": "stdout",
     "output_type": "stream",
     "text": [
      "Credit Score Prediction : \n"
     ]
    }
   ],
   "source": [
    "print(\"Credit Score Prediction : \")\n",
    "a = float(input(\"Annual Income: \"))\n",
    "b = float(input(\"Monthly Inhand Salary: \"))\n",
    "c = float(input(\"Number of Bank Accounts: \"))\n",
    "d = float(input(\"Number of Credit cards: \"))\n",
    "e = float(input(\"Interest rate: \"))\n",
    "f = float(input(\"Number of Loans: \"))\n",
    "g = float(input(\"Average number of days delayed by the person: \"))\n",
    "h = float(input(\"Number of delayed payments: \"))\n",
    "i = input(\"Credit Mix (Bad: 0, Standard: 1, Good: 3) : \")\n",
    "j = float(input(\"Outstanding Debt: \"))\n",
    "k = float(input(\"Credit History Age: \"))\n",
    "l = float(input(\"Monthly Balance: \"))\n",
    "\n",
    "features = np.array([[a, b, c, d, e, f, g, h, i, j, k, l]])\n",
    "print(\"Predicted Credit Score = \", model.predict(features))"
   ]
  },
  {
   "cell_type": "code",
   "execution_count": null,
   "metadata": {},
   "outputs": [],
   "source": []
  }
 ],
 "metadata": {
  "colab": {
   "provenance": []
  },
  "kernelspec": {
   "display_name": "Python 3 (ipykernel)",
   "language": "python",
   "name": "python3"
  },
  "language_info": {
   "codemirror_mode": {
    "name": "ipython",
    "version": 3
   },
   "file_extension": ".py",
   "mimetype": "text/x-python",
   "name": "python",
   "nbconvert_exporter": "python",
   "pygments_lexer": "ipython3",
   "version": "3.13.0"
  }
 },
 "nbformat": 4,
 "nbformat_minor": 4
}
